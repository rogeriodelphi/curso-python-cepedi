{
  "nbformat": 4,
  "nbformat_minor": 0,
  "metadata": {
    "colab": {
      "provenance": [],
      "authorship_tag": "ABX9TyProBhXPRRRss1uPuGpnccQ",
      "include_colab_link": true
    },
    "kernelspec": {
      "name": "python3",
      "display_name": "Python 3"
    },
    "language_info": {
      "name": "python"
    }
  },
  "cells": [
    {
      "cell_type": "markdown",
      "metadata": {
        "id": "view-in-github",
        "colab_type": "text"
      },
      "source": [
        "<a href=\"https://colab.research.google.com/github/rogeriodelphi/curso-python-cepedi/blob/main/Aula_03_Operadores_Aritm%C3%A9ticos%2C_Relacionais_e_L%C3%B3gicos_BEP_P003.ipynb\" target=\"_parent\"><img src=\"https://colab.research.google.com/assets/colab-badge.svg\" alt=\"Open In Colab\"/></a>"
      ]
    },
    {
      "cell_type": "markdown",
      "source": [
        "# 🐍 Aula: Operadores em Python"
      ],
      "metadata": {
        "id": "NlBBxSkTRVFX"
      }
    },
    {
      "cell_type": "markdown",
      "source": [
        "## 📌 1. Operadores Aritméticos"
      ],
      "metadata": {
        "id": "2OQbZX3jRQSP"
      }
    },
    {
      "cell_type": "code",
      "execution_count": null,
      "metadata": {
        "colab": {
          "base_uri": "https://localhost:8080/"
        },
        "id": "wOOyd0oEQ2wm",
        "outputId": "913313f4-a9ec-405f-fde1-bee8ebd543b7"
      },
      "outputs": [
        {
          "output_type": "stream",
          "name": "stdout",
          "text": [
            "Soma: 13\n",
            "Subtração: 7\n",
            "Multiplicação: 30\n",
            "Divisão: 3.3333333333333335\n",
            "Divisão inteira: 3\n",
            "Resto: 1\n",
            "Exponenciação: 1000\n"
          ]
        }
      ],
      "source": [
        "\n",
        "a = 10\n",
        "b = 3\n",
        "\n",
        "\n",
        "print(\"Soma:\", a + b)\n",
        "print(\"Subtração:\", a - b)\n",
        "print(\"Multiplicação:\", a * b)\n",
        "print(\"Divisão:\", a / b)\n",
        "print(\"Divisão inteira:\", a // b)\n",
        "print(\"Resto:\", a % b)\n",
        "print(\"Exponenciação:\", a ** b)"
      ]
    },
    {
      "cell_type": "markdown",
      "source": [
        "## 📌 2. Operadores Relacionais"
      ],
      "metadata": {
        "id": "_hecTnuRS-Wx"
      }
    },
    {
      "cell_type": "code",
      "source": [
        "a = 10\n",
        "b = 3\n",
        "\n",
        "print(\"a == b:\", a == b)\n",
        "print(\"a != b:\", a != b)\n",
        "print(\"a > b:\", a > b)\n",
        "print(\"a < b:\", a < b)\n",
        "print(\"a >= b:\", a >= b)\n",
        "print(\"a <= b:\", a <= b)"
      ],
      "metadata": {
        "colab": {
          "base_uri": "https://localhost:8080/"
        },
        "id": "tHZjziQgTAWw",
        "outputId": "ce519c99-00b2-4182-e1f1-aa91e3c13cd9"
      },
      "execution_count": null,
      "outputs": [
        {
          "output_type": "stream",
          "name": "stdout",
          "text": [
            "a == b: False\n",
            "a != b: True\n",
            "a > b: True\n",
            "a < b: False\n",
            "a >= b: True\n",
            "a <= b: False\n"
          ]
        }
      ]
    },
    {
      "cell_type": "markdown",
      "source": [
        "## 3. Operadores Lógicos"
      ],
      "metadata": {
        "id": "kidc4eTvTGvp"
      }
    },
    {
      "cell_type": "code",
      "source": [
        "a = 10\n",
        "b = 3\n",
        "\n",
        "print(\"and:\", (a > 5) and (b > 5))\n",
        "print(\"or:\", (a > 5) or (b > 5))\n",
        "print(\"not:\", not (a > 5))"
      ],
      "metadata": {
        "colab": {
          "base_uri": "https://localhost:8080/"
        },
        "id": "hmOVCia_THeb",
        "outputId": "9986c101-bb6f-4a28-f4bc-d0f1baecc9b2"
      },
      "execution_count": null,
      "outputs": [
        {
          "output_type": "stream",
          "name": "stdout",
          "text": [
            "and: False\n",
            "or: True\n",
            "not: False\n"
          ]
        }
      ]
    },
    {
      "cell_type": "markdown",
      "source": [
        "## 📌 4. Precedência e Associação dos Operadores"
      ],
      "metadata": {
        "id": "laFDEKUNW2s8"
      }
    },
    {
      "cell_type": "markdown",
      "source": [
        "# ✅ Gabarito – Exercícios de Operadores em Python"
      ],
      "metadata": {
        "id": "V8-llzIPXpKW"
      }
    },
    {
      "cell_type": "markdown",
      "source": [
        "## 📌 Exercício 1 – Operadores Aritméticos\n",
        "\n",
        "Enunciado: Peça ao usuário para digitar dois números inteiros. Mostre: soma, produto, quociente da divisão inteira e resto da divisão."
      ],
      "metadata": {
        "id": "ul7qgLq5XtVF"
      }
    },
    {
      "cell_type": "code",
      "source": [
        "# Exercício 1 - Operadores Aritméticos\n",
        "\n",
        "a = int(input(\"Digite o primeiro número inteiro: \"))\n",
        "b = int(input(\"Digite o segundo número inteiro: \"))\n",
        "\n",
        "print(\"Soma:\", a + b)\n",
        "print(\"Produto:\", a * b)\n",
        "print(\"Divisão inteira:\", a // b)\n",
        "print(\"Resto da divisão:\", a % b)\n"
      ],
      "metadata": {
        "colab": {
          "base_uri": "https://localhost:8080/"
        },
        "id": "43-Uacc1XwOf",
        "outputId": "154f8b71-9267-472a-aa20-24ecbab8033c"
      },
      "execution_count": null,
      "outputs": [
        {
          "output_type": "stream",
          "name": "stdout",
          "text": [
            "Digite o primeiro número inteiro: 10\n",
            "Digite o segundo número inteiro: 20\n",
            "Soma: 30\n",
            "Produto: 200\n",
            "Divisão inteira: 0\n",
            "Resto da divisão: 10\n"
          ]
        }
      ]
    },
    {
      "cell_type": "markdown",
      "source": [
        "## 📌 Exercício 2 – Operadores Relacionais\n",
        "\n",
        "Enunciado: Peça ao usuário para digitar a sua idade. Verifique e mostre se ele é menor de idade, adulto ou idoso."
      ],
      "metadata": {
        "id": "R0v6ojwxX7h1"
      }
    },
    {
      "cell_type": "code",
      "source": [
        "# Exercício 2 - Operadores Relacionais\n",
        "\n",
        "idade = int(input(\"Digite sua idade: \"))\n",
        "\n",
        "if idade < 18:\n",
        "    print(\"Você é menor de idade.\")\n",
        "elif idade >=18 and idade <= 59:\n",
        "    print(\"Você é adulto.\")\n",
        "else:\n",
        "    print(\"Você é idoso.\")\n"
      ],
      "metadata": {
        "colab": {
          "base_uri": "https://localhost:8080/"
        },
        "id": "4qTcgg6NX_pP",
        "outputId": "0741f823-3173-49c9-8bfd-49090d99a30a"
      },
      "execution_count": null,
      "outputs": [
        {
          "output_type": "stream",
          "name": "stdout",
          "text": [
            "Digite sua idade: 25\n",
            "Você é adulto.\n"
          ]
        }
      ]
    },
    {
      "cell_type": "markdown",
      "source": [
        "## 📌 Exercício 3 – Operadores Lógicos\n",
        "\n",
        "Enunciado: Peça ao usuário para digitar sua nota (0 a 10) e a frequência (0 a 100). O aluno será aprovado se nota >= 7 e frequência >= 75."
      ],
      "metadata": {
        "id": "KnIuiU5uYJNm"
      }
    },
    {
      "cell_type": "code",
      "source": [
        "# Exercício 3 - Operadores Lógicos\n",
        "\n",
        "nota = float(input(\"Digite a nota do aluno (0 a 10): \"))\n",
        "frequencia = int(input(\"Digite a frequência do aluno (%): \"))\n",
        "\n",
        "if nota >= 7 and frequencia >= 75:\n",
        "    print(\"Aluno APROVADO ✅\")\n",
        "else:\n",
        "    print(\"Aluno REPROVADO ❌\")\n"
      ],
      "metadata": {
        "colab": {
          "base_uri": "https://localhost:8080/"
        },
        "id": "wPiPdvjMYOQV",
        "outputId": "d5b749c7-2c7a-439d-aced-a257cf48b11b"
      },
      "execution_count": null,
      "outputs": [
        {
          "output_type": "stream",
          "name": "stdout",
          "text": [
            "Digite a nota do aluno (0 a 10): 10\n",
            "Digite a frequência do aluno (%): 74\n",
            "Aluno REPROVADO ❌\n"
          ]
        }
      ]
    },
    {
      "cell_type": "markdown",
      "source": [
        "## 📌 Exercício 4 – Precedência\n",
        "\n",
        "Enunciado: Resolva a expressão:\n",
        "\n",
        "(3 + 4) ∗ 2 ∗∗ 3 > 50 or not(10 // 3 == 3)"
      ],
      "metadata": {
        "id": "kvzamb7nYd-t"
      }
    },
    {
      "cell_type": "code",
      "source": [
        "# Exercício 4 - Precedência\n",
        "\n",
        "expressao = (3 + 4) * 2 ** 3 > 50 or not (10 // 3 == 3)\n",
        "\n",
        "print(\"Resultado da expressão:\", expressao)\n",
        "\n",
        "# Explicação passo a passo:\n",
        "# 1. (3 + 4) = 7\n",
        "# 2. 2 ** 3 = 8\n",
        "# 3. 7 * 8 = 56\n",
        "# 4. 56 > 50 → True\n",
        "# 5. 10 // 3 = 3\n",
        "# 6. 3 == 3 → True\n",
        "# 7. not (True) → False\n",
        "# 8. True or False → True\n"
      ],
      "metadata": {
        "colab": {
          "base_uri": "https://localhost:8080/"
        },
        "id": "ZrFooRi_YlZO",
        "outputId": "d7b07b3f-47a9-49ed-b2b6-2be530ee4fa7"
      },
      "execution_count": null,
      "outputs": [
        {
          "output_type": "stream",
          "name": "stdout",
          "text": [
            "Resultado da expressão: True\n"
          ]
        }
      ]
    }
  ]
}