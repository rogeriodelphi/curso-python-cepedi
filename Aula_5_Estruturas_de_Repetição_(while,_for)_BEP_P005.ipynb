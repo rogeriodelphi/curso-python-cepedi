{
  "nbformat": 4,
  "nbformat_minor": 0,
  "metadata": {
    "colab": {
      "provenance": [],
      "authorship_tag": "ABX9TyOa9y020Fnt8W+qtzkF+vBm",
      "include_colab_link": true
    },
    "kernelspec": {
      "name": "python3",
      "display_name": "Python 3"
    },
    "language_info": {
      "name": "python"
    }
  },
  "cells": [
    {
      "cell_type": "markdown",
      "metadata": {
        "id": "view-in-github",
        "colab_type": "text"
      },
      "source": [
        "<a href=\"https://colab.research.google.com/github/rogeriodelphi/curso-python-cepedi/blob/main/Aula_5_Estruturas_de_Repeti%C3%A7%C3%A3o_(while%2C_for)_BEP_P005.ipynb\" target=\"_parent\"><img src=\"https://colab.research.google.com/assets/colab-badge.svg\" alt=\"Open In Colab\"/></a>"
      ]
    },
    {
      "cell_type": "markdown",
      "source": [
        "# 🐍 Aula: Laços de Repetição em Python"
      ],
      "metadata": {
        "id": "X7M7nqBPpjjw"
      }
    },
    {
      "cell_type": "markdown",
      "source": [
        "## 1. Laço while"
      ],
      "metadata": {
        "id": "F6dpK60_pwlH"
      }
    },
    {
      "cell_type": "code",
      "execution_count": 1,
      "metadata": {
        "colab": {
          "base_uri": "https://localhost:8080/"
        },
        "id": "j3HhVbbbpI6u",
        "outputId": "723f9ab4-60de-4300-c894-1525e00e548c"
      },
      "outputs": [
        {
          "output_type": "stream",
          "name": "stdout",
          "text": [
            "Contagem: 1\n",
            "Contagem: 2\n",
            "Contagem: 3\n",
            "Contagem: 4\n",
            "Contagem: 5\n"
          ]
        }
      ],
      "source": [
        "contador = 1\n",
        "while contador <= 5:\n",
        "    print(\"Contagem:\", contador)\n",
        "    contador += 1  # cuidado: sem isso vira loop infinito!"
      ]
    },
    {
      "cell_type": "markdown",
      "source": [
        "###\n",
        "➡ Esse código imprime de 1 até 5."
      ],
      "metadata": {
        "id": "P8Mtfb8srpnH"
      }
    },
    {
      "cell_type": "markdown",
      "source": [
        "#2. Laço for"
      ],
      "metadata": {
        "id": "dn5PPVTap6z6"
      }
    },
    {
      "cell_type": "markdown",
      "source": [
        "## Exemplo 1 – usando range:"
      ],
      "metadata": {
        "id": "yHsDeDiwqC03"
      }
    },
    {
      "cell_type": "code",
      "source": [
        "for i in range(5):  # vai de 0 até 4\n",
        "    print(\"Número:\", i)"
      ],
      "metadata": {
        "colab": {
          "base_uri": "https://localhost:8080/"
        },
        "id": "iFK4NXu_p_tQ",
        "outputId": "2ffa8e17-a978-4b43-d75a-acc53135885c"
      },
      "execution_count": 2,
      "outputs": [
        {
          "output_type": "stream",
          "name": "stdout",
          "text": [
            "Número: 0\n",
            "Número: 1\n",
            "Número: 2\n",
            "Número: 3\n",
            "Número: 4\n"
          ]
        }
      ]
    },
    {
      "cell_type": "markdown",
      "source": [
        "\n",
        "\n",
        "## Exemplo 2 – percorrendo uma lista:\n",
        "\n"
      ],
      "metadata": {
        "id": "G5zo_5bmqHCg"
      }
    },
    {
      "cell_type": "code",
      "source": [
        "frutas = [\"maçã\", \"banana\", \"uva\"]\n",
        "for fruta in frutas:\n",
        "    print(\"Eu gosto de\", fruta)\n"
      ],
      "metadata": {
        "colab": {
          "base_uri": "https://localhost:8080/"
        },
        "id": "bjNdVJP4qVz6",
        "outputId": "83e41fd5-1a73-46f2-8b43-f40753f942ed"
      },
      "execution_count": 3,
      "outputs": [
        {
          "output_type": "stream",
          "name": "stdout",
          "text": [
            "Eu gosto de maçã\n",
            "Eu gosto de banana\n",
            "Eu gosto de uva\n"
          ]
        }
      ]
    },
    {
      "cell_type": "markdown",
      "source": [
        "##3. Função range()"
      ],
      "metadata": {
        "id": "5HlzhWw1qZdz"
      }
    },
    {
      "cell_type": "code",
      "source": [
        "for i in range(2, 11, 2):\n",
        "    print(i)"
      ],
      "metadata": {
        "colab": {
          "base_uri": "https://localhost:8080/"
        },
        "id": "2YBz7vfkqb5z",
        "outputId": "f938fa0f-8fb4-4844-b57c-2bc976f4e317"
      },
      "execution_count": 4,
      "outputs": [
        {
          "output_type": "stream",
          "name": "stdout",
          "text": [
            "2\n",
            "4\n",
            "6\n",
            "8\n",
            "10\n"
          ]
        }
      ]
    },
    {
      "cell_type": "markdown",
      "source": [
        "###➡ Saída: 2, 4, 6, 8, 10"
      ],
      "metadata": {
        "id": "cXk0Zwdirib2"
      }
    },
    {
      "cell_type": "markdown",
      "source": [
        "##4. Laços aninhados"
      ],
      "metadata": {
        "id": "mfPIgUF4qgii"
      }
    },
    {
      "cell_type": "code",
      "source": [
        "for i in range(1, 4):  # controla as linhas\n",
        "    for j in range(1, 4):  # controla as colunas\n",
        "        print(i, \"x\", j, \"=\", i * j)\n",
        "    print(\"-\" * 10)  # separador\n"
      ],
      "metadata": {
        "colab": {
          "base_uri": "https://localhost:8080/"
        },
        "id": "fupfKsJDqnLO",
        "outputId": "5e944c33-bc86-40aa-aa11-595586098533"
      },
      "execution_count": 5,
      "outputs": [
        {
          "output_type": "stream",
          "name": "stdout",
          "text": [
            "1 x 1 = 1\n",
            "1 x 2 = 2\n",
            "1 x 3 = 3\n",
            "----------\n",
            "2 x 1 = 2\n",
            "2 x 2 = 4\n",
            "2 x 3 = 6\n",
            "----------\n",
            "3 x 1 = 3\n",
            "3 x 2 = 6\n",
            "3 x 3 = 9\n",
            "----------\n"
          ]
        }
      ]
    },
    {
      "cell_type": "markdown",
      "source": [
        "##5. Comandos _break_ e _continue_"
      ],
      "metadata": {
        "id": "tw4Nlishq0Q_"
      }
    },
    {
      "cell_type": "markdown",
      "source": [
        "##Exemplo com break:"
      ],
      "metadata": {
        "id": "MQIwJdk1rOMj"
      }
    },
    {
      "cell_type": "code",
      "source": [
        "for i in range(1, 10):\n",
        "    if i == 5:\n",
        "        break\n",
        "    print(i)\n"
      ],
      "metadata": {
        "colab": {
          "base_uri": "https://localhost:8080/"
        },
        "id": "kJFgC7V0rQ3u",
        "outputId": "3abbbe90-8894-4148-f626-3efe58bef6f0"
      },
      "execution_count": 7,
      "outputs": [
        {
          "output_type": "stream",
          "name": "stdout",
          "text": [
            "1\n",
            "2\n",
            "3\n",
            "4\n"
          ]
        }
      ]
    },
    {
      "cell_type": "markdown",
      "source": [
        "➡ Para quando i chega em 5."
      ],
      "metadata": {
        "id": "ZPn5HwZLrden"
      }
    },
    {
      "cell_type": "markdown",
      "source": [
        "##Exemplo com continue:"
      ],
      "metadata": {
        "id": "JFjwju0IrGsq"
      }
    },
    {
      "cell_type": "code",
      "source": [
        "for i in range(1, 10):\n",
        "    if i == 5:\n",
        "        continue\n",
        "    print(i)\n"
      ],
      "metadata": {
        "colab": {
          "base_uri": "https://localhost:8080/"
        },
        "id": "7NpwXiMqrI76",
        "outputId": "3e392583-3b76-40ed-d338-ab13ab207195"
      },
      "execution_count": 6,
      "outputs": [
        {
          "output_type": "stream",
          "name": "stdout",
          "text": [
            "1\n",
            "2\n",
            "3\n",
            "4\n",
            "6\n",
            "7\n",
            "8\n",
            "9\n"
          ]
        }
      ]
    },
    {
      "cell_type": "markdown",
      "source": [
        "###➡ Pula o número 5, mas continua até 9."
      ],
      "metadata": {
        "id": "8HT1DJIcraFE"
      }
    },
    {
      "cell_type": "code",
      "source": [],
      "metadata": {
        "id": "zQK_a5vjrF6T"
      },
      "execution_count": null,
      "outputs": []
    },
    {
      "cell_type": "markdown",
      "source": [],
      "metadata": {
        "id": "eiPo3sCqpoKY"
      }
    }
  ]
}