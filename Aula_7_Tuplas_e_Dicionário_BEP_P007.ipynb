{
  "nbformat": 4,
  "nbformat_minor": 0,
  "metadata": {
    "colab": {
      "provenance": [],
      "authorship_tag": "ABX9TyP8JXONy+TubeP9ecmfa7uM",
      "include_colab_link": true
    },
    "kernelspec": {
      "name": "python3",
      "display_name": "Python 3"
    },
    "language_info": {
      "name": "python"
    }
  },
  "cells": [
    {
      "cell_type": "markdown",
      "metadata": {
        "id": "view-in-github",
        "colab_type": "text"
      },
      "source": [
        "<a href=\"https://colab.research.google.com/github/rogeriodelphi/curso-python-cepedi/blob/main/Aula_7_Tuplas_e_Dicion%C3%A1rio_BEP_P007.ipynb\" target=\"_parent\"><img src=\"https://colab.research.google.com/assets/colab-badge.svg\" alt=\"Open In Colab\"/></a>"
      ]
    },
    {
      "cell_type": "markdown",
      "source": [
        "# 📘 Aula: Tuplas e Dicionários em Python"
      ],
      "metadata": {
        "id": "SJWlmfvqV3eH"
      }
    },
    {
      "cell_type": "markdown",
      "source": [
        "##📌 1. Definição de Tuplas"
      ],
      "metadata": {
        "id": "AYmCkbOdV_JN"
      }
    },
    {
      "cell_type": "markdown",
      "source": [
        "### Uma tupla é uma estrutura de dados do Python muito parecida com uma lista, mas imutável.\n",
        "Ou seja, depois que você cria uma tupla, não pode alterar, adicionar ou remover elementos."
      ],
      "metadata": {
        "id": "VSg5VhZxWIeP"
      }
    },
    {
      "cell_type": "code",
      "source": [
        "pontos = (10, 20)\n",
        "print(\"Coordenada X:\", pontos[0])\n",
        "print(\"Coordenada Y:\", pontos[1])"
      ],
      "metadata": {
        "colab": {
          "base_uri": "https://localhost:8080/"
        },
        "id": "xtMddPynWB22",
        "outputId": "c2358747-d388-4c4c-d508-9805f01f2fab"
      },
      "execution_count": 1,
      "outputs": [
        {
          "output_type": "stream",
          "name": "stdout",
          "text": [
            "Coordenada X: 10\n",
            "Coordenada Y: 20\n"
          ]
        }
      ]
    },
    {
      "cell_type": "markdown",
      "source": [
        "##📌 2. Diferença entre Tuplas e Listas"
      ],
      "metadata": {
        "id": "ASn8B_3nYWdR"
      }
    },
    {
      "cell_type": "code",
      "execution_count": 2,
      "metadata": {
        "colab": {
          "base_uri": "https://localhost:8080/"
        },
        "id": "-9ZLbi3jVk4i",
        "outputId": "be9debb0-01d7-416f-b810-7f01cd8d6382"
      },
      "outputs": [
        {
          "output_type": "stream",
          "name": "stdout",
          "text": [
            "[1, 2, 3, 4]\n",
            "(1, 2, 3)\n"
          ]
        }
      ],
      "source": [
        "# Lista\n",
        "lista = [1, 2, 3]\n",
        "lista.append(4)  # permitido\n",
        "print(lista)\n",
        "\n",
        "# Tupla\n",
        "tupla = (1, 2, 3)\n",
        "# tupla.append(4)  # isso daria ERRO, pois tuplas são imutáveis\n",
        "print(tupla)\n"
      ]
    },
    {
      "cell_type": "markdown",
      "source": [
        "##📌 3. Estrutura e Uso de Dicionários"
      ],
      "metadata": {
        "id": "bsQMIgnYbV6j"
      }
    },
    {
      "cell_type": "markdown",
      "source": [
        "###Um dicionário é uma estrutura de dados que armazena pares **chave**: **valor**.\n",
        "É muito usado quando queremos relacionar dados, como em uma agenda de contatos."
      ],
      "metadata": {
        "id": "8XpPCF8Pbcm3"
      }
    },
    {
      "cell_type": "code",
      "source": [
        "dicionario = {\n",
        "    \"nome\": \"Maria\",\n",
        "    \"idade\": 25,\n",
        "    \"cidade\": \"Recife\"\n",
        "}\n",
        "print(dicionario)"
      ],
      "metadata": {
        "colab": {
          "base_uri": "https://localhost:8080/"
        },
        "id": "NuucoTYyYgMy",
        "outputId": "6ba68e7d-ed3e-45aa-b89b-0dbe40b89fde"
      },
      "execution_count": 7,
      "outputs": [
        {
          "output_type": "stream",
          "name": "stdout",
          "text": [
            "{'nome': 'Maria', 'idade': 25, 'cidade': 'Recife'}\n"
          ]
        }
      ]
    },
    {
      "cell_type": "markdown",
      "source": [
        "### As chaves são únicas e podem ser strings, números ou tuplas.\n",
        "\n",
        "Os valores podem ser de qualquer tipo: strings, números, listas, dicionários, etc."
      ],
      "metadata": {
        "id": "GsOatlt_cEyn"
      }
    },
    {
      "cell_type": "code",
      "source": [
        "pessoa = {\"nome\": \"João\", \"idade\": 30, \"cidade\": \"São Paulo\"}\n",
        "\n",
        "print(pessoa[\"nome\"])   # Acessa o valor da chave \"nome\"\n",
        "print(pessoa.get(\"idade\"))  # Forma mais segura de acessar valores\n",
        "\n",
        "# Adicionando uma nova chave\n",
        "pessoa[\"profissao\"] = \"Engenheiro\"\n",
        "\n",
        "# Alterando valor de uma chave\n",
        "pessoa[\"idade\"] = 31\n",
        "\n",
        "# Removendo uma chave\n",
        "del pessoa[\"cidade\"]\n",
        "\n",
        "print(pessoa)\n"
      ],
      "metadata": {
        "colab": {
          "base_uri": "https://localhost:8080/"
        },
        "id": "vadf7mFSb6kw",
        "outputId": "63d3d19d-1bcb-4a61-ef58-3bdbc4bfe621"
      },
      "execution_count": 8,
      "outputs": [
        {
          "output_type": "stream",
          "name": "stdout",
          "text": [
            "João\n",
            "30\n",
            "{'nome': 'João', 'idade': 31, 'profissao': 'Engenheiro'}\n"
          ]
        }
      ]
    }
  ]
}