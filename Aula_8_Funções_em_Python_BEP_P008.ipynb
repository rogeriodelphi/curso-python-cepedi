{
  "nbformat": 4,
  "nbformat_minor": 0,
  "metadata": {
    "colab": {
      "provenance": [],
      "authorship_tag": "ABX9TyMnSNI2khevTAZzV/52Jgau",
      "include_colab_link": true
    },
    "kernelspec": {
      "name": "python3",
      "display_name": "Python 3"
    },
    "language_info": {
      "name": "python"
    }
  },
  "cells": [
    {
      "cell_type": "markdown",
      "metadata": {
        "id": "view-in-github",
        "colab_type": "text"
      },
      "source": [
        "<a href=\"https://colab.research.google.com/github/rogeriodelphi/curso-python-cepedi/blob/main/Aula_8_Fun%C3%A7%C3%B5es_em_Python_BEP_P008.ipynb\" target=\"_parent\"><img src=\"https://colab.research.google.com/assets/colab-badge.svg\" alt=\"Open In Colab\"/></a>"
      ]
    },
    {
      "cell_type": "markdown",
      "source": [
        "#1. 📌 Definição e chamadas de funções\n",
        "\n",
        "### Uma função é um bloco de código que pode ser executado sempre que for chamado.\n",
        "Em Python, usamos a palavra-chave def para criar funções."
      ],
      "metadata": {
        "id": "rrjwrzfzjXxw"
      }
    },
    {
      "cell_type": "code",
      "execution_count": 1,
      "metadata": {
        "colab": {
          "base_uri": "https://localhost:8080/"
        },
        "id": "ZB4_5L7Siuc5",
        "outputId": "6bbce2be-f144-496b-f50b-8869da777292"
      },
      "outputs": [
        {
          "output_type": "stream",
          "name": "stdout",
          "text": [
            "Olá, bem-vindo ao curso de Python!\n"
          ]
        }
      ],
      "source": [
        "def saudacao():\n",
        "    print(\"Olá, bem-vindo ao curso de Python!\")\n",
        "\n",
        "# Chamando a função\n",
        "saudacao()"
      ]
    },
    {
      "cell_type": "markdown",
      "source": [
        "# 2. 📌 Argumentos e parâmetros\n",
        "\n",
        "### Parâmetros → variáveis que a função recebe na definição.\n",
        "\n",
        "Argumentos → valores passados quando a função é chamada."
      ],
      "metadata": {
        "id": "tGPXRenum6Ds"
      }
    },
    {
      "cell_type": "code",
      "source": [
        "def saudacao(nome):  # nome é o parâmetro\n",
        "    print(f\"Olá, {nome}!\")\n",
        "\n",
        "# Passando argumento\n",
        "saudacao(\"Rogério\")\n",
        "saudacao(\"Thaís\")\n"
      ],
      "metadata": {
        "colab": {
          "base_uri": "https://localhost:8080/"
        },
        "id": "z-ZNQYBem0pi",
        "outputId": "b31c4a05-f5f0-4aa2-ba0b-0d75a0a4c587"
      },
      "execution_count": 2,
      "outputs": [
        {
          "output_type": "stream",
          "name": "stdout",
          "text": [
            "Olá, Rogério!\n",
            "Olá, Thaís!\n"
          ]
        }
      ]
    },
    {
      "cell_type": "markdown",
      "source": [
        "### Mais de um parâmetro:"
      ],
      "metadata": {
        "id": "Aw76LkG4ntIK"
      }
    },
    {
      "cell_type": "code",
      "source": [
        "def soma(a, b):\n",
        "    print(f\"A soma é: {a + b}\")\n",
        "\n",
        "soma(5, 10)\n",
        "soma(3, 7)"
      ],
      "metadata": {
        "colab": {
          "base_uri": "https://localhost:8080/"
        },
        "id": "UGH3BofOnyMB",
        "outputId": "b02e27f1-da36-490b-d8f4-86d9f905d97f"
      },
      "execution_count": 3,
      "outputs": [
        {
          "output_type": "stream",
          "name": "stdout",
          "text": [
            "A soma é: 15\n",
            "A soma é: 10\n"
          ]
        }
      ]
    },
    {
      "cell_type": "markdown",
      "source": [
        "# 3. 📌 Retorno de valores\n",
        "\n",
        "### Funções podem retornar resultados para serem usados em outras partes do código.\n",
        "Usamos a palavra-chave ***return***."
      ],
      "metadata": {
        "id": "Js4AKM77pFR8"
      }
    },
    {
      "cell_type": "code",
      "source": [
        "def soma(a, b):\n",
        "    return a + b\n",
        "\n",
        "resultado = soma(7, 3)\n",
        "print(f\"O resultado da soma é {resultado}\")\n"
      ],
      "metadata": {
        "colab": {
          "base_uri": "https://localhost:8080/"
        },
        "id": "s54GSj3epGAj",
        "outputId": "eb73bc21-855b-4d9e-fe18-1616d8bfcb19"
      },
      "execution_count": 4,
      "outputs": [
        {
          "output_type": "stream",
          "name": "stdout",
          "text": [
            "O resultado da soma é 10\n"
          ]
        }
      ]
    },
    {
      "cell_type": "markdown",
      "source": [
        "###4. 📌 Espaço de variáveis (escopo)\n",
        "\n",
        "O escopo define onde a variável pode ser usada:\n",
        "\n",
        "*   Variável local → criada dentro da função, só existe dentro dela.\n",
        "*   Variável global → criada fora da função, pode ser usada no programa todo."
      ],
      "metadata": {
        "id": "J5LA8MrXqyR7"
      }
    },
    {
      "cell_type": "code",
      "source": [
        "x = 10  # variável global\n",
        "\n",
        "def minha_funcao():\n",
        "    y = 5  # variável local\n",
        "    print(f\"Dentro da função: x = {x}, y = {y}\")\n",
        "\n",
        "minha_funcao()\n",
        "\n",
        "print(f\"Fora da função: x = {x}\")\n",
        "# print(y)  # Isso daria erro, pois y só existe dentro da função\n"
      ],
      "metadata": {
        "colab": {
          "base_uri": "https://localhost:8080/"
        },
        "id": "p0zSymxLrJml",
        "outputId": "4f553b8d-e111-46b4-dc59-02b42456d0aa"
      },
      "execution_count": 5,
      "outputs": [
        {
          "output_type": "stream",
          "name": "stdout",
          "text": [
            "Dentro da função: x = 10, y = 5\n",
            "Fora da função: x = 10\n"
          ]
        }
      ]
    }
  ]
}