{
  "nbformat": 4,
  "nbformat_minor": 0,
  "metadata": {
    "colab": {
      "provenance": [],
      "authorship_tag": "ABX9TyN8aH/sab1ELlzJJshi1i3h",
      "include_colab_link": true
    },
    "kernelspec": {
      "name": "python3",
      "display_name": "Python 3"
    },
    "language_info": {
      "name": "python"
    }
  },
  "cells": [
    {
      "cell_type": "markdown",
      "metadata": {
        "id": "view-in-github",
        "colab_type": "text"
      },
      "source": [
        "<a href=\"https://colab.research.google.com/github/rogeriodelphi/curso-python-cepedi/blob/main/Aula_4_Estruturas_Condicionais_(if%2C_elif%2C_else)_BEP_P004.ipynb\" target=\"_parent\"><img src=\"https://colab.research.google.com/assets/colab-badge.svg\" alt=\"Open In Colab\"/></a>"
      ]
    },
    {
      "cell_type": "markdown",
      "source": [
        "# 🐍 Aula: Estrutura Condicionais(if, elif, else) em Python"
      ],
      "metadata": {
        "id": "Q8qPJrY352_4"
      }
    },
    {
      "cell_type": "markdown",
      "source": [
        "## 📌 1. Estrutura básica if."
      ],
      "metadata": {
        "id": "wjwhBqJ17DeY"
      }
    },
    {
      "cell_type": "code",
      "source": [
        "idade = 20\n",
        "\n",
        "if idade >= 18:\n",
        "    print(\"Você é maior de idade.\")\n"
      ],
      "metadata": {
        "colab": {
          "base_uri": "https://localhost:8080/"
        },
        "id": "p7Bgg0OY8Hvn",
        "outputId": "f69cff49-e07b-46c0-a212-33be257f925b"
      },
      "execution_count": 2,
      "outputs": [
        {
          "output_type": "stream",
          "name": "stdout",
          "text": [
            "Você é maior de idade.\n"
          ]
        }
      ]
    },
    {
      "cell_type": "markdown",
      "source": [
        "## 📌 2. Estrutura básica if - else"
      ],
      "metadata": {
        "id": "xnkw7HQw8No_"
      }
    },
    {
      "cell_type": "code",
      "execution_count": 1,
      "metadata": {
        "colab": {
          "base_uri": "https://localhost:8080/"
        },
        "id": "bMVSorkn5pq_",
        "outputId": "a57ec357-f810-4aa9-ade8-9b066cca6287"
      },
      "outputs": [
        {
          "output_type": "stream",
          "name": "stdout",
          "text": [
            "Você é menor de idade.\n"
          ]
        }
      ],
      "source": [
        "idade = 16\n",
        "\n",
        "if idade >= 18:\n",
        "    print(\"Você é maior de idade.\")\n",
        "else:\n",
        "    print(\"Você é menor de idade.\")\n"
      ]
    },
    {
      "cell_type": "markdown",
      "source": [
        "## 📌 3. Estrutura básica if – elif – else"
      ],
      "metadata": {
        "id": "mWIW1h9G8YXX"
      }
    },
    {
      "cell_type": "code",
      "source": [
        "nota = 75\n",
        "\n",
        "if nota >= 90:\n",
        "    print(\"Aprovado com conceito A\")\n",
        "elif nota >= 70:\n",
        "    print(\"Aprovado com conceito B\")\n",
        "elif nota >= 50:\n",
        "    print(\"Aprovado com conceito C\")\n",
        "else:\n",
        "    print(\"Reprovado\")\n"
      ],
      "metadata": {
        "colab": {
          "base_uri": "https://localhost:8080/"
        },
        "id": "9ZKww94f8esX",
        "outputId": "17f76514-f95c-4083-a231-f75cfdd38448"
      },
      "execution_count": 3,
      "outputs": [
        {
          "output_type": "stream",
          "name": "stdout",
          "text": [
            "Aprovado com conceito B\n"
          ]
        }
      ]
    },
    {
      "cell_type": "markdown",
      "source": [
        "## 📌 4. Boas práticas na escrita de condicionais:\n",
        "\n",
        "\n",
        "*   Mantenha condições simples e legíveis;  \n",
        "*   Evite repetições desnecessárias;\n",
        "*   Use elif em vez de vários if independentes quando as condições são exclusivas.\n",
        "\n",
        "\n",
        "\n",
        "\n"
      ],
      "metadata": {
        "id": "x00HJFrT8jfA"
      }
    },
    {
      "cell_type": "code",
      "source": [
        "\n",
        "dia = input(\"Digite o dia da semana: \").lower()\n",
        "\n",
        "if dia == \"sabado\" or dia == \"domingo\":\n",
        "    print(\"Fim de semana\")\n",
        "elif dia == \"segunda\" or dia == \"terça\" or dia == \"quarta\" or dia == \"quinta\" or dia == \"sexta\":\n",
        "    print(\"Dia útil\")\n",
        "else:\n",
        "    print(\"Dia inválido\")\n"
      ],
      "metadata": {
        "colab": {
          "base_uri": "https://localhost:8080/"
        },
        "id": "fbsFl_jr8qC_",
        "outputId": "0371b4eb-0928-4141-aa5e-c237b31cf862"
      },
      "execution_count": 11,
      "outputs": [
        {
          "output_type": "stream",
          "name": "stdout",
          "text": [
            "Digite o dia da semana: segunda\n",
            "Dia útil\n"
          ]
        }
      ]
    },
    {
      "cell_type": "code",
      "source": [],
      "metadata": {
        "id": "CW0o_IF3-Nfj"
      },
      "execution_count": 8,
      "outputs": []
    }
  ]
}