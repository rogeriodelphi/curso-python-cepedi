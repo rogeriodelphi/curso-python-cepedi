{
  "nbformat": 4,
  "nbformat_minor": 0,
  "metadata": {
    "colab": {
      "provenance": [],
      "authorship_tag": "ABX9TyOzT8FFKEyneRhirbn1B7KR",
      "include_colab_link": true
    },
    "kernelspec": {
      "name": "python3",
      "display_name": "Python 3"
    },
    "language_info": {
      "name": "python"
    }
  },
  "cells": [
    {
      "cell_type": "markdown",
      "metadata": {
        "id": "view-in-github",
        "colab_type": "text"
      },
      "source": [
        "<a href=\"https://colab.research.google.com/github/rogeriodelphi/curso-python-cepedi/blob/main/Aula_6_Trabalhando_com_Listas_BEP_P006.ipynb\" target=\"_parent\"><img src=\"https://colab.research.google.com/assets/colab-badge.svg\" alt=\"Open In Colab\"/></a>"
      ]
    },
    {
      "cell_type": "markdown",
      "source": [
        "# ✅ Resolução dos Exercícios"
      ],
      "metadata": {
        "id": "4fs-6KOOJ_FX"
      }
    },
    {
      "cell_type": "markdown",
      "source": [
        "\n",
        "\n",
        "Crie uma lista chamada animais com os elementos: \"cachorro\", \"gato\", \"elefante\".\n",
        "\n",
        "Adicione \"leão\" ao final.\n",
        "\n",
        "Insira \"tigre\" na posição 1.\n",
        "\n",
        "Remova \"gato\".\n",
        "\n",
        "Mostre a lista final.\n",
        "\n"
      ],
      "metadata": {
        "id": "zhlKkGjCJ5Vv"
      }
    },
    {
      "cell_type": "code",
      "source": [
        "animais = [\"cachorro\", \"gato\", \"elefante\"]\n",
        "\n",
        "# adiciona 'leão' no final\n",
        "animais.append(\"leão\")\n",
        "\n",
        "# insere 'tigre' na posição 1\n",
        "animais.insert(1, \"tigre\")\n",
        "\n",
        "# remove 'gato'\n",
        "animais.remove(\"gato\")\n",
        "\n",
        "print(animais)  # ['cachorro', 'tigre', 'elefante', 'leão']\n"
      ],
      "metadata": {
        "colab": {
          "base_uri": "https://localhost:8080/"
        },
        "id": "x5qbtIB7KD-c",
        "outputId": "010d81de-8208-45da-af94-687a15666793"
      },
      "execution_count": null,
      "outputs": [
        {
          "output_type": "stream",
          "name": "stdout",
          "text": [
            "['cachorro', 'tigre', 'elefante', 'leão']\n"
          ]
        }
      ]
    },
    {
      "cell_type": "markdown",
      "source": [
        "Dada a lista:\n",
        "\n",
        "numeros = [5, 10, 15, 20, 25, 30, 35]\n",
        "\n",
        "1. Os três primeiros elementos.\n",
        "2. Do terceiro ao quinto elemento.\n",
        "3. Todos os elementos de 2 em 2.\n",
        "4. A lista invertida.\n",
        "\n",
        "\n",
        "\n"
      ],
      "metadata": {
        "id": "w3yGR_QZKKiU"
      }
    },
    {
      "cell_type": "code",
      "source": [
        "numeros = [5, 10, 15, 20, 25, 30, 35]\n",
        "\n",
        "# 1. Três primeiros\n",
        "print(numeros[:3])  # [5, 10, 15]\n",
        "\n",
        "# 2. Do terceiro ao quinto (índices 2 até 4)\n",
        "print(numeros[2:5])  # [15, 20, 25]\n",
        "\n",
        "# 3. De 2 em 2\n",
        "print(numeros[::2])  # [5, 15, 25, 35]\n",
        "\n",
        "# 4. Lista invertida\n",
        "print(numeros[::-1])  # [35, 30, 25, 20, 15, 10, 5]\n"
      ],
      "metadata": {
        "colab": {
          "base_uri": "https://localhost:8080/"
        },
        "id": "c-xdi4uBKmOd",
        "outputId": "4eb948f6-0f54-41bb-8768-c0d48c02baf4"
      },
      "execution_count": null,
      "outputs": [
        {
          "output_type": "stream",
          "name": "stdout",
          "text": [
            "[5, 10, 15]\n",
            "[15, 20, 25]\n",
            "[5, 15, 25, 35]\n",
            "[35, 30, 25, 20, 15, 10, 5]\n"
          ]
        }
      ]
    },
    {
      "cell_type": "markdown",
      "source": [
        "* Crie uma lista chamada compras com 5 itens do mercado.\n",
        "* Peça ao usuário para inserir um novo item e adicione-o à lista.\n",
        "\n",
        "Mostre todos os itens da lista."
      ],
      "metadata": {
        "id": "UsKM7DgNKqiM"
      }
    },
    {
      "cell_type": "code",
      "source": [
        "compras = [\"arroz\", \"feijão\", \"macarrão\", \"tomate\", \"óleo\"]\n",
        "\n",
        "# pede um item ao usuário\n",
        "novo_item = input(\"Digite um item para adicionar à lista de compras: \")\n",
        "\n",
        "# adiciona à lista\n",
        "compras.append(novo_item)\n",
        "compras.reverse()\n",
        "\n",
        "print(\"Lista de compras atualizada:\", compras)\n"
      ],
      "metadata": {
        "colab": {
          "base_uri": "https://localhost:8080/"
        },
        "id": "W7vVaxU2KzZs",
        "outputId": "c42853aa-7eb4-4176-b66d-5b5194d630dd"
      },
      "execution_count": null,
      "outputs": [
        {
          "output_type": "stream",
          "name": "stdout",
          "text": [
            "Digite um item para adicionar à lista de compras: açúcar\n",
            "Lista de compras atualizada: ['açúcar', 'óleo', 'tomate', 'macarrão', 'feijão', 'arroz']\n"
          ]
        }
      ]
    },
    {
      "cell_type": "code",
      "source": [
        "numeros = [1, 2, 3, 2]\n",
        "numeros.remove(2)\n",
        "print(numeros)"
      ],
      "metadata": {
        "colab": {
          "base_uri": "https://localhost:8080/"
        },
        "id": "VtaoL8mbPJPj",
        "outputId": "a2c7f8c5-35bf-4144-8d18-bfad2cc447e8"
      },
      "execution_count": null,
      "outputs": [
        {
          "output_type": "stream",
          "name": "stdout",
          "text": [
            "[1, 3, 2]\n"
          ]
        }
      ]
    },
    {
      "cell_type": "code",
      "source": [
        "numeros[::-1]"
      ],
      "metadata": {
        "id": "Xvx7DALWQROo",
        "outputId": "44c3d8b4-6faa-4c16-e274-15ce861511da",
        "colab": {
          "base_uri": "https://localhost:8080/"
        }
      },
      "execution_count": null,
      "outputs": [
        {
          "output_type": "execute_result",
          "data": {
            "text/plain": [
              "[2, 3, 1]"
            ]
          },
          "metadata": {},
          "execution_count": 5
        }
      ]
    },
    {
      "cell_type": "code",
      "source": [
        "animais = [\"cachorro\", \"gato\", \"elefante\"]\n",
        "compras = [\"arroz\", \"feijão\", \"macarrão\", \"tomate\", \"óleo\"]\n",
        "todas = []\n",
        "todas.extend([animais, compras])\n",
        "soma_listas = animais + compras\n",
        "\n",
        "print('Junta as listas:', todas)\n",
        "print('Junta os ítens:', soma_listas)\n",
        "\n"
      ],
      "metadata": {
        "colab": {
          "base_uri": "https://localhost:8080/"
        },
        "id": "oFR-v_CQmTLo",
        "outputId": "d2c03f74-f2eb-4dd6-b512-5f4b1c5d93b9"
      },
      "execution_count": null,
      "outputs": [
        {
          "output_type": "stream",
          "name": "stdout",
          "text": [
            "Junta as listas: [['cachorro', 'gato', 'elefante'], ['arroz', 'feijão', 'macarrão', 'tomate', 'óleo']]\n",
            "Junta os ítens: ['cachorro', 'gato', 'elefante', 'arroz', 'feijão', 'macarrão', 'tomate', 'óleo']\n"
          ]
        }
      ]
    },
    {
      "cell_type": "markdown",
      "source": [],
      "metadata": {
        "id": "CXhGiaY9rP8U"
      }
    },
    {
      "cell_type": "markdown",
      "source": [],
      "metadata": {
        "id": "UEeo_sNarSiz"
      }
    },
    {
      "cell_type": "code",
      "source": [
        "numeros = [1, 2, 3, 4, 5, 6, 7, 8, 9, 10]\n",
        "nova_lista = (numeros[::-3])"
      ],
      "metadata": {
        "colab": {
          "base_uri": "https://localhost:8080/"
        },
        "id": "LMq9jwX3rKnj",
        "outputId": "60377622-5733-4d2f-fd80-6597d3c7f461"
      },
      "execution_count": null,
      "outputs": [
        {
          "output_type": "stream",
          "name": "stdout",
          "text": [
            "[10, 7, 4, 1]\n"
          ]
        }
      ]
    },
    {
      "cell_type": "code",
      "source": [
        "compras = ['feijão', 'Açúcar', 'Sal', 'Arroz', 'Carne']\n",
        "novo_item = input('informe um novo item de compra')\n",
        "compras.append(novo_item)\n",
        "print(compras)"
      ],
      "metadata": {
        "colab": {
          "base_uri": "https://localhost:8080/"
        },
        "id": "43K7tVDR2PEv",
        "outputId": "7b59dff4-c354-460d-d28a-115c3a15bedf"
      },
      "execution_count": null,
      "outputs": [
        {
          "output_type": "stream",
          "name": "stdout",
          "text": [
            "informe um novo item de compraLeite\n",
            "['feijão', 'Açúcar', 'Sal', 'Arroz', 'Carne', 'Leite']\n"
          ]
        }
      ]
    },
    {
      "cell_type": "markdown",
      "source": [],
      "metadata": {
        "id": "RBSw4_5UsI3S"
      }
    }
  ]
}